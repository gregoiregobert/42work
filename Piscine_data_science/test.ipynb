{
 "cells": [
  {
   "cell_type": "code",
   "execution_count": 1,
   "metadata": {},
   "outputs": [],
   "source": [
    "import pandas as pd\n",
    "import seaborn as sns\n",
    "import matplotlib.pyplot as plt"
   ]
  },
  {
   "cell_type": "code",
   "execution_count": 2,
   "metadata": {},
   "outputs": [],
   "source": [
    "dl = '/home/ggobert/Downloads/'\n",
    "dl = '/Users/gregoiregobert/Downloads/42/'\n",
    "df_dec = pd.read_csv(dl + 'subject/customer/data_2022_dec.csv')\n",
    "df_nov = pd.read_csv(dl + 'subject/customer/data_2022_nov.csv')\n",
    "df_oct = pd.read_csv(dl + 'subject/customer/data_2022_oct.csv')\n",
    "df_jan = pd.read_csv(dl + 'subject/customer/data_2023_jan.csv')\n",
    "df_item = pd.read_csv(dl + 'subject/item/item.csv')"
   ]
  },
  {
   "cell_type": "code",
   "execution_count": 3,
   "metadata": {},
   "outputs": [
    {
     "name": "stdout",
     "output_type": "stream",
     "text": [
      "4102283 4635837 3533286 4264752 109579\n"
     ]
    }
   ],
   "source": [
    "print(df_oct.shape[0], df_nov.shape[0], df_dec.shape[0], df_jan.shape[0], df_item.shape[0])"
   ]
  },
  {
   "cell_type": "code",
   "execution_count": 4,
   "metadata": {},
   "outputs": [],
   "source": [
    "df_customers =  pd.concat([df_oct, df_nov, df_dec ,df_jan], ignore_index=True)"
   ]
  },
  {
   "cell_type": "code",
   "execution_count": 5,
   "metadata": {},
   "outputs": [
    {
     "data": {
      "text/html": [
       "<div>\n",
       "<style scoped>\n",
       "    .dataframe tbody tr th:only-of-type {\n",
       "        vertical-align: middle;\n",
       "    }\n",
       "\n",
       "    .dataframe tbody tr th {\n",
       "        vertical-align: top;\n",
       "    }\n",
       "\n",
       "    .dataframe thead th {\n",
       "        text-align: right;\n",
       "    }\n",
       "</style>\n",
       "<table border=\"1\" class=\"dataframe\">\n",
       "  <thead>\n",
       "    <tr style=\"text-align: right;\">\n",
       "      <th></th>\n",
       "      <th>event_time</th>\n",
       "      <th>event_type</th>\n",
       "      <th>product_id</th>\n",
       "      <th>price</th>\n",
       "      <th>user_id</th>\n",
       "      <th>user_session</th>\n",
       "    </tr>\n",
       "  </thead>\n",
       "  <tbody>\n",
       "    <tr>\n",
       "      <th>0</th>\n",
       "      <td>2022-10-01 00:00:00 UTC</td>\n",
       "      <td>cart</td>\n",
       "      <td>5773203</td>\n",
       "      <td>2.62</td>\n",
       "      <td>463240011</td>\n",
       "      <td>26dd6e6e-4dac-4778-8d2c-92e149dab885</td>\n",
       "    </tr>\n",
       "    <tr>\n",
       "      <th>1</th>\n",
       "      <td>2022-10-01 00:00:03 UTC</td>\n",
       "      <td>cart</td>\n",
       "      <td>5773353</td>\n",
       "      <td>2.62</td>\n",
       "      <td>463240011</td>\n",
       "      <td>26dd6e6e-4dac-4778-8d2c-92e149dab885</td>\n",
       "    </tr>\n",
       "    <tr>\n",
       "      <th>2</th>\n",
       "      <td>2022-10-01 00:00:07 UTC</td>\n",
       "      <td>cart</td>\n",
       "      <td>5881589</td>\n",
       "      <td>13.48</td>\n",
       "      <td>429681830</td>\n",
       "      <td>49e8d843-adf3-428b-a2c3-fe8bc6a307c9</td>\n",
       "    </tr>\n",
       "    <tr>\n",
       "      <th>3</th>\n",
       "      <td>2022-10-01 00:00:07 UTC</td>\n",
       "      <td>cart</td>\n",
       "      <td>5723490</td>\n",
       "      <td>2.62</td>\n",
       "      <td>463240011</td>\n",
       "      <td>26dd6e6e-4dac-4778-8d2c-92e149dab885</td>\n",
       "    </tr>\n",
       "    <tr>\n",
       "      <th>4</th>\n",
       "      <td>2022-10-01 00:00:15 UTC</td>\n",
       "      <td>cart</td>\n",
       "      <td>5881449</td>\n",
       "      <td>0.56</td>\n",
       "      <td>429681830</td>\n",
       "      <td>49e8d843-adf3-428b-a2c3-fe8bc6a307c9</td>\n",
       "    </tr>\n",
       "    <tr>\n",
       "      <th>...</th>\n",
       "      <td>...</td>\n",
       "      <td>...</td>\n",
       "      <td>...</td>\n",
       "      <td>...</td>\n",
       "      <td>...</td>\n",
       "      <td>...</td>\n",
       "    </tr>\n",
       "    <tr>\n",
       "      <th>16536153</th>\n",
       "      <td>2023-01-31 23:59:52 UTC</td>\n",
       "      <td>remove_from_cart</td>\n",
       "      <td>5886774</td>\n",
       "      <td>1.59</td>\n",
       "      <td>607092857</td>\n",
       "      <td>a4ccd1c4-a9d2-48d0-9816-082ec5bb5e47</td>\n",
       "    </tr>\n",
       "    <tr>\n",
       "      <th>16536154</th>\n",
       "      <td>2023-01-31 23:59:52 UTC</td>\n",
       "      <td>remove_from_cart</td>\n",
       "      <td>5886774</td>\n",
       "      <td>1.59</td>\n",
       "      <td>607092857</td>\n",
       "      <td>a4ccd1c4-a9d2-48d0-9816-082ec5bb5e47</td>\n",
       "    </tr>\n",
       "    <tr>\n",
       "      <th>16536155</th>\n",
       "      <td>2023-01-31 23:59:53 UTC</td>\n",
       "      <td>view</td>\n",
       "      <td>5875432</td>\n",
       "      <td>2.05</td>\n",
       "      <td>423651741</td>\n",
       "      <td>fb42a963-abef-4c4f-b1ba-f5812dd54e80</td>\n",
       "    </tr>\n",
       "    <tr>\n",
       "      <th>16536156</th>\n",
       "      <td>2023-01-31 23:59:57 UTC</td>\n",
       "      <td>remove_from_cart</td>\n",
       "      <td>5820745</td>\n",
       "      <td>2.22</td>\n",
       "      <td>607092857</td>\n",
       "      <td>a4ccd1c4-a9d2-48d0-9816-082ec5bb5e47</td>\n",
       "    </tr>\n",
       "    <tr>\n",
       "      <th>16536157</th>\n",
       "      <td>2023-01-31 23:59:58 UTC</td>\n",
       "      <td>remove_from_cart</td>\n",
       "      <td>5820745</td>\n",
       "      <td>2.22</td>\n",
       "      <td>607092857</td>\n",
       "      <td>a4ccd1c4-a9d2-48d0-9816-082ec5bb5e47</td>\n",
       "    </tr>\n",
       "  </tbody>\n",
       "</table>\n",
       "<p>16536158 rows × 6 columns</p>\n",
       "</div>"
      ],
      "text/plain": [
       "                       event_time        event_type  product_id  price  \\\n",
       "0         2022-10-01 00:00:00 UTC              cart     5773203   2.62   \n",
       "1         2022-10-01 00:00:03 UTC              cart     5773353   2.62   \n",
       "2         2022-10-01 00:00:07 UTC              cart     5881589  13.48   \n",
       "3         2022-10-01 00:00:07 UTC              cart     5723490   2.62   \n",
       "4         2022-10-01 00:00:15 UTC              cart     5881449   0.56   \n",
       "...                           ...               ...         ...    ...   \n",
       "16536153  2023-01-31 23:59:52 UTC  remove_from_cart     5886774   1.59   \n",
       "16536154  2023-01-31 23:59:52 UTC  remove_from_cart     5886774   1.59   \n",
       "16536155  2023-01-31 23:59:53 UTC              view     5875432   2.05   \n",
       "16536156  2023-01-31 23:59:57 UTC  remove_from_cart     5820745   2.22   \n",
       "16536157  2023-01-31 23:59:58 UTC  remove_from_cart     5820745   2.22   \n",
       "\n",
       "            user_id                          user_session  \n",
       "0         463240011  26dd6e6e-4dac-4778-8d2c-92e149dab885  \n",
       "1         463240011  26dd6e6e-4dac-4778-8d2c-92e149dab885  \n",
       "2         429681830  49e8d843-adf3-428b-a2c3-fe8bc6a307c9  \n",
       "3         463240011  26dd6e6e-4dac-4778-8d2c-92e149dab885  \n",
       "4         429681830  49e8d843-adf3-428b-a2c3-fe8bc6a307c9  \n",
       "...             ...                                   ...  \n",
       "16536153  607092857  a4ccd1c4-a9d2-48d0-9816-082ec5bb5e47  \n",
       "16536154  607092857  a4ccd1c4-a9d2-48d0-9816-082ec5bb5e47  \n",
       "16536155  423651741  fb42a963-abef-4c4f-b1ba-f5812dd54e80  \n",
       "16536156  607092857  a4ccd1c4-a9d2-48d0-9816-082ec5bb5e47  \n",
       "16536157  607092857  a4ccd1c4-a9d2-48d0-9816-082ec5bb5e47  \n",
       "\n",
       "[16536158 rows x 6 columns]"
      ]
     },
     "execution_count": 5,
     "metadata": {},
     "output_type": "execute_result"
    }
   ],
   "source": [
    "df_customers"
   ]
  },
  {
   "cell_type": "code",
   "execution_count": 6,
   "metadata": {},
   "outputs": [
    {
     "name": "stderr",
     "output_type": "stream",
     "text": [
      "/var/folders/n2/gxdlc_b90y1d74l67scsrc1m0000gn/T/ipykernel_9523/2912236082.py:3: SettingWithCopyWarning: \n",
      "A value is trying to be set on a copy of a slice from a DataFrame.\n",
      "Try using .loc[row_indexer,col_indexer] = value instead\n",
      "\n",
      "See the caveats in the documentation: https://pandas.pydata.org/pandas-docs/stable/user_guide/indexing.html#returning-a-view-versus-a-copy\n",
      "  df_customers_dd['event_time'] = pd.to_datetime(df_customers_dd['event_time'])\n",
      "/var/folders/n2/gxdlc_b90y1d74l67scsrc1m0000gn/T/ipykernel_9523/2912236082.py:4: SettingWithCopyWarning: \n",
      "A value is trying to be set on a copy of a slice from a DataFrame.\n",
      "Try using .loc[row_indexer,col_indexer] = value instead\n",
      "\n",
      "See the caveats in the documentation: https://pandas.pydata.org/pandas-docs/stable/user_guide/indexing.html#returning-a-view-versus-a-copy\n",
      "  df_customers_dd['time_diff'] = df_customers_dd.groupby(list(group_cols))['event_time'].diff().dt.total_seconds()\n"
     ]
    }
   ],
   "source": [
    "df_customers_dd = df_customers.drop_duplicates()\n",
    "group_cols = df_customers_dd.columns.difference(['event_time'])\n",
    "df_customers_dd['event_time'] = pd.to_datetime(df_customers_dd['event_time'])\n",
    "df_customers_dd['time_diff'] = df_customers_dd.groupby(list(group_cols))['event_time'].diff().dt.total_seconds()\n",
    "df_customers_filtered = df_customers_dd[df_customers_dd['time_diff'].isna() | (df_customers_dd['time_diff'] > 1)]"
   ]
  },
  {
   "cell_type": "code",
   "execution_count": 7,
   "metadata": {},
   "outputs": [
    {
     "data": {
      "text/plain": [
       "Index(['event_time', 'event_type', 'product_id', 'price', 'user_id',\n",
       "       'user_session', 'time_diff'],\n",
       "      dtype='object')"
      ]
     },
     "execution_count": 7,
     "metadata": {},
     "output_type": "execute_result"
    }
   ],
   "source": [
    "df_customers_filtered.columns"
   ]
  },
  {
   "cell_type": "code",
   "execution_count": 8,
   "metadata": {},
   "outputs": [
    {
     "data": {
      "text/plain": [
       "Index(['product_id', 'category_id', 'category_code', 'brand'], dtype='object')"
      ]
     },
     "execution_count": 8,
     "metadata": {},
     "output_type": "execute_result"
    }
   ],
   "source": [
    "df_item.columns"
   ]
  },
  {
   "cell_type": "code",
   "execution_count": 9,
   "metadata": {},
   "outputs": [],
   "source": [
    "df_customers_outter = pd.merge(df_customers_filtered, df_item, how='outer', on='product_id')"
   ]
  },
  {
   "cell_type": "code",
   "execution_count": 10,
   "metadata": {},
   "outputs": [
    {
     "data": {
      "text/plain": [
       "(36915420, 10)"
      ]
     },
     "execution_count": 10,
     "metadata": {},
     "output_type": "execute_result"
    }
   ],
   "source": [
    "df_customers_outter.shape"
   ]
  },
  {
   "cell_type": "code",
   "execution_count": 12,
   "metadata": {},
   "outputs": [
    {
     "data": {
      "text/plain": [
       "event_type\n",
       "view                18372577\n",
       "cart                10660663\n",
       "remove_from_cart     5321798\n",
       "purchase             2556609\n",
       "NaN                     3773\n",
       "Name: count, dtype: int64"
      ]
     },
     "execution_count": 12,
     "metadata": {},
     "output_type": "execute_result"
    }
   ],
   "source": [
    "df_customers_outter[\"event_type\"].value_counts(dropna=False)"
   ]
  },
  {
   "cell_type": "code",
   "execution_count": null,
   "metadata": {},
   "outputs": [],
   "source": []
  }
 ],
 "metadata": {
  "kernelspec": {
   "display_name": "Python 3",
   "language": "python",
   "name": "python3"
  },
  "language_info": {
   "codemirror_mode": {
    "name": "ipython",
    "version": 3
   },
   "file_extension": ".py",
   "mimetype": "text/x-python",
   "name": "python",
   "nbconvert_exporter": "python",
   "pygments_lexer": "ipython3",
   "version": "3.12.3"
  }
 },
 "nbformat": 4,
 "nbformat_minor": 2
}
