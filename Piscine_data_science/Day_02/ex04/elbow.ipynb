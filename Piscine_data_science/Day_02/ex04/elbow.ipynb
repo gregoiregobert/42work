{
 "cells": [
  {
   "cell_type": "code",
   "execution_count": null,
   "metadata": {},
   "outputs": [
    {
     "name": "stdout",
     "output_type": "stream",
     "text": [
      "Trying to connect to db\n",
      "Connection success!\n"
     ]
    }
   ],
   "source": [
    "import psycopg2\n",
    "import pandas as pd\n",
    "from sklearn.preprocessing import StandardScaler\n",
    "\n",
    "# Connecting to the Database\n",
    "print(\"Trying to connect to db\")\n",
    "conn = psycopg2.connect(\n",
    "    database=\"piscineds\",\n",
    "    user=\"ggobert\",\n",
    "    password=\"mysecretpassword\",\n",
    "    host=0\n",
    ")\n",
    "print(\"Connection success!\")\n",
    "\n",
    "cur = conn.cursor()\n",
    "cur.execute(\"\"\" SELECT * FROM  customers \"\"\")\n",
    "results = cur.fetchall()\n",
    "\n",
    "cur.close()\n",
    "conn.close()\n",
    "\n",
    "# 1m 55.2s"
   ]
  },
  {
   "cell_type": "code",
   "execution_count": null,
   "metadata": {},
   "outputs": [],
   "source": [
    "colnames = [desc[0] for desc in cur.description]\n",
    "df = pd.DataFrame(results, columns=colnames)\n",
    "\n",
    "# 2m 0.5s"
   ]
  },
  {
   "cell_type": "code",
   "execution_count": null,
   "metadata": {},
   "outputs": [
    {
     "data": {
      "text/html": [
       "<div>\n",
       "<style scoped>\n",
       "    .dataframe tbody tr th:only-of-type {\n",
       "        vertical-align: middle;\n",
       "    }\n",
       "\n",
       "    .dataframe tbody tr th {\n",
       "        vertical-align: top;\n",
       "    }\n",
       "\n",
       "    .dataframe thead th {\n",
       "        text-align: right;\n",
       "    }\n",
       "</style>\n",
       "<table border=\"1\" class=\"dataframe\">\n",
       "  <thead>\n",
       "    <tr style=\"text-align: right;\">\n",
       "      <th></th>\n",
       "      <th>user_id</th>\n",
       "      <th>price</th>\n",
       "      <th>event_type</th>\n",
       "      <th>product_id</th>\n",
       "      <th>user_session</th>\n",
       "    </tr>\n",
       "  </thead>\n",
       "  <tbody>\n",
       "    <tr>\n",
       "      <th>0</th>\n",
       "      <td>465496</td>\n",
       "      <td>30.00</td>\n",
       "      <td>3</td>\n",
       "      <td>3</td>\n",
       "      <td>2</td>\n",
       "    </tr>\n",
       "    <tr>\n",
       "      <th>1</th>\n",
       "      <td>1120748</td>\n",
       "      <td>4.05</td>\n",
       "      <td>1</td>\n",
       "      <td>1</td>\n",
       "      <td>1</td>\n",
       "    </tr>\n",
       "    <tr>\n",
       "      <th>2</th>\n",
       "      <td>1180452</td>\n",
       "      <td>25.40</td>\n",
       "      <td>1</td>\n",
       "      <td>1</td>\n",
       "      <td>1</td>\n",
       "    </tr>\n",
       "    <tr>\n",
       "      <th>3</th>\n",
       "      <td>1458813</td>\n",
       "      <td>159.36</td>\n",
       "      <td>31</td>\n",
       "      <td>25</td>\n",
       "      <td>4</td>\n",
       "    </tr>\n",
       "    <tr>\n",
       "      <th>4</th>\n",
       "      <td>2963072</td>\n",
       "      <td>906.85</td>\n",
       "      <td>24</td>\n",
       "      <td>12</td>\n",
       "      <td>1</td>\n",
       "    </tr>\n",
       "  </tbody>\n",
       "</table>\n",
       "</div>"
      ],
      "text/plain": [
       "   user_id   price  event_type  product_id  user_session\n",
       "0   465496   30.00           3           3             2\n",
       "1  1120748    4.05           1           1             1\n",
       "2  1180452   25.40           1           1             1\n",
       "3  1458813  159.36          31          25             4\n",
       "4  2963072  906.85          24          12             1"
      ]
     },
     "execution_count": 22,
     "metadata": {},
     "output_type": "execute_result"
    }
   ],
   "source": [
    "df['price'] = df['price'].replace('[$,]', '', regex=True).astype(float)\n",
    "\n",
    "user_data = df.groupby('user_id').agg({\n",
    "    'price': 'sum',  # Somme des prix par utilisateur\n",
    "    'event_type': 'count',  # Nombre total d'événements par utilisateur\n",
    "    'product_id': 'nunique',  # Nombre unique de produits achetés par utilisateur\n",
    "    'user_session': 'nunique',  # Nombre de sessions utilisateur\n",
    "}).reset_index()\n",
    "\n",
    "user_data.head()\n",
    "\n",
    "# 1m 2.9s"
   ]
  },
  {
   "cell_type": "code",
   "execution_count": null,
   "metadata": {},
   "outputs": [],
   "source": [
    "scaler = StandardScaler()\n",
    "features_to_scale = ['price', 'event_type', 'product_id', 'user_session']\n",
    "scaled_data = scaler.fit_transform(user_data[features_to_scale])"
   ]
  },
  {
   "cell_type": "code",
   "execution_count": null,
   "metadata": {},
   "outputs": [
    {
     "name": "stdout",
     "output_type": "stream",
     "text": [
      "Données après normalisation :\n",
      "      price  event_type  product_id  user_session\n",
      "0 -0.158283   -0.144268   -0.128992     -0.034526\n",
      "1 -0.216211   -0.178483   -0.212433     -0.084224\n",
      "2 -0.168552   -0.178483   -0.212433     -0.084224\n",
      "3  0.130485    0.334739    0.788849      0.064870\n",
      "4  1.799095    0.214987    0.246488     -0.084224\n"
     ]
    }
   ],
   "source": [
    "scaled_df = pd.DataFrame(scaled_data, columns=features_to_scale)\n",
    "print(\"Données après normalisation :\")\n",
    "print(scaled_df.head())"
   ]
  },
  {
   "cell_type": "code",
   "execution_count": null,
   "metadata": {},
   "outputs": [],
   "source": [
    "from sklearn.cluster import KMeans\n",
    "\n",
    "inertia = []\n",
    "k_range = range(1, 11)\n",
    "\n",
    "for k in k_range:\n",
    "    kmeans = KMeans(n_clusters=k, random_state=42)\n",
    "    kmeans.fit(scaled_data)\n",
    "    inertia.append(kmeans.inertia_)"
   ]
  },
  {
   "cell_type": "code",
   "execution_count": null,
   "metadata": {},
   "outputs": [
    {
     "data": {
      "image/png": "[encoded data removed]",
      "text/plain": [
       "<Figure size 1000x600 with 1 Axes>"
      ]
     },
     "metadata": {},
     "output_type": "display_data"
    }
   ],
   "source": [
    "import matplotlib.pyplot as plt\n",
    "\n",
    "plt.figure(figsize=(10, 6))\n",
    "plt.plot(k_range, inertia, marker='o')\n",
    "plt.title('The Elbow Method')\n",
    "plt.xlabel('Number of clusters')\n",
    "plt.show()"
   ]
  }
 ],
 "metadata": {
  "kernelspec": {
   "display_name": "Python 3",
   "language": "python",
   "name": "python3"
  },
  "language_info": {
   "codemirror_mode": {
    "name": "ipython",
    "version": 3
   },
   "file_extension": ".py",
   "mimetype": "text/x-python",
   "name": "python",
   "nbconvert_exporter": "python",
   "pygments_lexer": "ipython3",
   "version": "3.12.3"
  }
 },
 "nbformat": 4,
 "nbformat_minor": 2
}
