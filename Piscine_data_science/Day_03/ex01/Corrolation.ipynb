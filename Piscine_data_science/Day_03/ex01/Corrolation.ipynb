{
 "cells": [
  {
   "cell_type": "code",
   "execution_count": 2,
   "metadata": {},
   "outputs": [],
   "source": [
    "import pandas as pd\n",
    "\n",
    "# Emplacement\n",
    "folder = \"/Users/gregoiregobert/Downloads/42/knight\"\n",
    "df = pd.read_csv(folder + \"/Train_knight.csv\")"
   ]
  },
  {
   "cell_type": "code",
   "execution_count": 3,
   "metadata": {},
   "outputs": [
    {
     "name": "stdout",
     "output_type": "stream",
     "text": [
      "knight           1.000000\n",
      "Empowered        0.793652\n",
      "Prescience       0.790066\n",
      "Stims            0.786797\n",
      "Recovery         0.777633\n",
      "Sprint           0.739672\n",
      "Strength         0.737403\n",
      "Sensitivity      0.721566\n",
      "Power            0.700709\n",
      "Awareness        0.699662\n",
      "Attunement       0.648893\n",
      "Dexterity        0.631987\n",
      "Delay            0.598072\n",
      "Slash            0.550663\n",
      "Pull             0.537800\n",
      "Lightsaber       0.515340\n",
      "Evade            0.465605\n",
      "Hability         0.446632\n",
      "Burst            0.445847\n",
      "Combo            0.445223\n",
      "Blocking         0.421950\n",
      "Agility          0.397458\n",
      "Reactivity       0.375103\n",
      "Grasping         0.350105\n",
      "Repulse          0.324399\n",
      "Friendship       0.236633\n",
      "Mass             0.113185\n",
      "Midi-chlorien    0.008132\n",
      "Push            -0.019446\n",
      "Deflection      -0.026489\n",
      "Survival        -0.043099\n",
      "Name: knight, dtype: float64\n"
     ]
    },
    {
     "name": "stderr",
     "output_type": "stream",
     "text": [
      "/var/folders/n2/gxdlc_b90y1d74l67scsrc1m0000gn/T/ipykernel_3691/3147220576.py:1: FutureWarning: Downcasting behavior in `replace` is deprecated and will be removed in a future version. To retain the old behavior, explicitly call `result.infer_objects(copy=False)`. To opt-in to the future behavior, set `pd.set_option('future.no_silent_downcasting', True)`\n",
      "  df['knight'] = df['knight'].replace({'Sith': 0, 'Jedi': 1})\n"
     ]
    }
   ],
   "source": [
    "df['knight'] = df['knight'].replace({'Sith': 0, 'Jedi': 1})\n",
    "\n",
    "df_corr = df.corr()\n",
    "\n",
    "# Affiche la correlation de la colonne knight\n",
    "print(df_corr['knight'].sort_values(ascending=False))"
   ]
  }
 ],
 "metadata": {
  "kernelspec": {
   "display_name": "Python 3",
   "language": "python",
   "name": "python3"
  },
  "language_info": {
   "codemirror_mode": {
    "name": "ipython",
    "version": 3
   },
   "file_extension": ".py",
   "mimetype": "text/x-python",
   "name": "python",
   "nbconvert_exporter": "python",
   "pygments_lexer": "ipython3",
   "version": "3.12.3"
  }
 },
 "nbformat": 4,
 "nbformat_minor": 2
}
