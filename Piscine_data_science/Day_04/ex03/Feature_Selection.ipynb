{
 "cells": [
  {
   "cell_type": "code",
   "execution_count": 2,
   "metadata": {},
   "outputs": [],
   "source": [
    "import pandas as pd\n",
    "import matplotlib.pyplot as plt\n",
    "from sklearn.preprocessing import StandardScaler\n",
    "from statsmodels.stats.outliers_influence import variance_inflation_factor # il faudra probablement installer statsmodels : pip install statsmodels\n",
    "\n",
    "# Emplacement\n",
    "folder = \"/Users/gregoiregobert/Downloads/42/knight\"\n",
    "folder = \"/home/ggobert/Downloads\"\n",
    "\n",
    "df = pd.read_csv(folder + \"/Train_knight.csv\")\n",
    "df =df.drop(columns='knight')"
   ]
  },
  {
   "cell_type": "code",
   "execution_count": 3,
   "metadata": {},
   "outputs": [],
   "source": [
    "scaler = StandardScaler()\n",
    "df_scaled = scaler.fit_transform(df)"
   ]
  },
  {
   "cell_type": "code",
   "execution_count": 4,
   "metadata": {},
   "outputs": [
    {
     "name": "stdout",
     "output_type": "stream",
     "text": [
      "          Feature          VIF  Tolerance\n",
      "14       Survival     3.630928   0.275412\n",
      "11           Push     4.065017   0.246001\n",
      "8      Reactivity     4.074260   0.245443\n",
      "18     Deflection     4.550873   0.219738\n",
      "4         Agility     7.645518   0.130796\n",
      "28          Burst     8.649491   0.115614\n",
      "24          Combo     9.860934   0.101410\n",
      "19           Mass    10.477189   0.095445\n",
      "1        Hability    11.188825   0.089375\n",
      "17       Blocking    14.581072   0.068582\n",
      "9   Midi-chlorien    14.650093   0.068259\n",
      "15        Repulse    15.259597   0.065533\n",
      "21          Evade    17.630598   0.056720\n",
      "16     Friendship    19.040267   0.052520\n",
      "29       Grasping    19.758797   0.050610\n",
      "26     Attunement    33.904833   0.029494\n",
      "25          Delay    35.987392   0.027788\n",
      "27      Empowered    36.224859   0.027605\n",
      "13     Lightsaber    47.550260   0.021030\n",
      "5       Dexterity    54.126657   0.018475\n",
      "7      Prescience    54.712644   0.018277\n",
      "6       Awareness    69.852627   0.014316\n",
      "12           Pull    73.911907   0.013530\n",
      "10          Slash    80.754427   0.012383\n",
      "22          Stims   346.022133   0.002890\n",
      "23         Sprint   359.129874   0.002785\n",
      "3           Power   411.965245   0.002427\n",
      "20       Recovery   782.388684   0.001278\n",
      "0     Sensitivity  4367.233204   0.000229\n",
      "2        Strength  4489.653450   0.000223\n"
     ]
    }
   ],
   "source": [
    "vif_data = pd.DataFrame()\n",
    "vif_data[\"Feature\"] = df.columns\n",
    "vif_data[\"VIF\"] = [variance_inflation_factor(df_scaled, i) for i in range(df_scaled.shape[1])]\n",
    "vif_data = vif_data.sort_values(by=['VIF'])\n",
    "vif_data[\"Tolerance\"] = 1 / vif_data[\"VIF\"]\n",
    "print(vif_data)"
   ]
  },
  {
   "cell_type": "code",
   "execution_count": 5,
   "metadata": {},
   "outputs": [
    {
     "name": "stdout",
     "output_type": "stream",
     "text": [
      "       Feature       VIF  Tolerance\n",
      "14    Survival  3.630928   0.275412\n",
      "11        Push  4.065017   0.246001\n",
      "8   Reactivity  4.074260   0.245443\n",
      "18  Deflection  4.550873   0.219738\n"
     ]
    }
   ],
   "source": [
    "vif_data = vif_data[vif_data[\"VIF\"] <= 5]\n",
    "print(vif_data)"
   ]
  },
  {
   "cell_type": "code",
   "execution_count": null,
   "metadata": {},
   "outputs": [],
   "source": []
  }
 ],
 "metadata": {
  "kernelspec": {
   "display_name": "Python 3",
   "language": "python",
   "name": "python3"
  },
  "language_info": {
   "codemirror_mode": {
    "name": "ipython",
    "version": 3
   },
   "file_extension": ".py",
   "mimetype": "text/x-python",
   "name": "python",
   "nbconvert_exporter": "python",
   "pygments_lexer": "ipython3",
   "version": "3.10.17"
  }
 },
 "nbformat": 4,
 "nbformat_minor": 2
}
