{
 "cells": [
  {
   "cell_type": "code",
   "execution_count": 29,
   "metadata": {},
   "outputs": [],
   "source": [
    "import matplotlib.pyplot as plt\n",
    "import pandas as pd\n",
    "\n",
    "df = pd.read_csv(\"/Users/gregoiregobert/Downloads/Train_knight.csv\")\n",
    "df =df.drop(columns='knight')"
   ]
  },
  {
   "cell_type": "code",
   "execution_count": 30,
   "metadata": {},
   "outputs": [],
   "source": [
    "from sklearn.preprocessing import StandardScaler\n",
    "\n",
    "scaler = StandardScaler()\n",
    "df_scaled = scaler.fit_transform(df)"
   ]
  },
  {
   "cell_type": "code",
   "execution_count": 31,
   "metadata": {},
   "outputs": [],
   "source": [
    "from statsmodels.stats.outliers_influence import variance_inflation_factor\n",
    "\n",
    "vif_data = pd.DataFrame()\n",
    "vif_data[\"Feature\"] = df.columns\n",
    "vif_data[\"VIF\"] = [variance_inflation_factor(df_scaled, i) for i in range(df_scaled.shape[1])]\n",
    "vif_data = vif_data.sort_values(by=['VIF'])\n",
    "vif_data[\"Tolerance\"] = 1 / vif_data[\"VIF\"]"
   ]
  },
  {
   "cell_type": "code",
   "execution_count": 32,
   "metadata": {},
   "outputs": [
    {
     "name": "stdout",
     "output_type": "stream",
     "text": [
      "\n",
      "VIF after dropping features with VIF > 5:\n",
      "       Feature       VIF  Tolerance\n",
      "14    Survival  3.630928   0.275412\n",
      "11        Push  4.065017   0.246001\n",
      "8   Reactivity  4.074260   0.245443\n",
      "18  Deflection  4.550873   0.219738\n"
     ]
    }
   ],
   "source": [
    "vif_data = vif_data[vif_data[\"VIF\"] <= 5]\n",
    "print(\"\\nVIF after dropping features with VIF > 5:\")\n",
    "print(vif_data)"
   ]
  }
 ],
 "metadata": {
  "kernelspec": {
   "display_name": "Python 3",
   "language": "python",
   "name": "python3"
  },
  "language_info": {
   "codemirror_mode": {
    "name": "ipython",
    "version": 3
   },
   "file_extension": ".py",
   "mimetype": "text/x-python",
   "name": "python",
   "nbconvert_exporter": "python",
   "pygments_lexer": "ipython3",
   "version": "3.12.3"
  }
 },
 "nbformat": 4,
 "nbformat_minor": 2
}
